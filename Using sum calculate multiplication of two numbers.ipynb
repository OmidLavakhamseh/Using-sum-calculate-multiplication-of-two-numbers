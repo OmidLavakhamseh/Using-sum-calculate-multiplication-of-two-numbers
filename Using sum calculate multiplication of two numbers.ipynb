{
 "cells": [
  {
   "cell_type": "markdown",
   "id": "5c552f9f",
   "metadata": {},
   "source": [
    "![My_Imagde](zarb.png)\n"
   ]
  },
  {
   "cell_type": "code",
   "execution_count": 7,
   "id": "6e976993",
   "metadata": {},
   "outputs": [],
   "source": [
    "def zarb(a,b):\n",
    "    res=0\n",
    "    for i in range(1,b+1):\n",
    "        res=res+a\n",
    "        #print(res)\n",
    "    return(res)"
   ]
  },
  {
   "cell_type": "code",
   "execution_count": 8,
   "id": "5254f524",
   "metadata": {},
   "outputs": [],
   "source": [
    "def test_zarb():\n",
    "    assert zarb(3,4)==12\n",
    "    assert zarb(0,10)==0\n",
    "    assert zarb(-4,4)==-16\n",
    "    assert zarb(0,0)==0\n",
    "    "
   ]
  },
  {
   "cell_type": "code",
   "execution_count": 10,
   "id": "0daa3d13",
   "metadata": {},
   "outputs": [],
   "source": [
    "test_zarb()"
   ]
  }
 ],
 "metadata": {
  "kernelspec": {
   "display_name": "Python 3 (ipykernel)",
   "language": "python",
   "name": "python3"
  },
  "language_info": {
   "codemirror_mode": {
    "name": "ipython",
    "version": 3
   },
   "file_extension": ".py",
   "mimetype": "text/x-python",
   "name": "python",
   "nbconvert_exporter": "python",
   "pygments_lexer": "ipython3",
   "version": "3.9.7"
  }
 },
 "nbformat": 4,
 "nbformat_minor": 5
}
